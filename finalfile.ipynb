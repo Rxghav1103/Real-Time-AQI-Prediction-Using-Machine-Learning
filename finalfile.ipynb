{
 "cells": [
  {
   "cell_type": "code",
   "execution_count": 7,
   "metadata": {},
   "outputs": [],
   "source": [
    "import numpy as np\n",
    "import matplotlib.pyplot as plt\n",
    "import pandas as pd\n",
    "import requests"
   ]
  },
  {
   "cell_type": "code",
   "execution_count": 3,
   "metadata": {},
   "outputs": [],
   "source": [
    "data = pd.read_csv('city_day.csv')"
   ]
  },
  {
   "cell_type": "code",
   "execution_count": 5,
   "metadata": {},
   "outputs": [
    {
     "data": {
      "text/html": [
       "<div>\n",
       "<style scoped>\n",
       "    .dataframe tbody tr th:only-of-type {\n",
       "        vertical-align: middle;\n",
       "    }\n",
       "\n",
       "    .dataframe tbody tr th {\n",
       "        vertical-align: top;\n",
       "    }\n",
       "\n",
       "    .dataframe thead th {\n",
       "        text-align: right;\n",
       "    }\n",
       "</style>\n",
       "<table border=\"1\" class=\"dataframe\">\n",
       "  <thead>\n",
       "    <tr style=\"text-align: right;\">\n",
       "      <th></th>\n",
       "      <th>City</th>\n",
       "      <th>Date</th>\n",
       "      <th>PM2.5</th>\n",
       "      <th>PM10</th>\n",
       "      <th>NO</th>\n",
       "      <th>NO2</th>\n",
       "      <th>NOx</th>\n",
       "      <th>NH3</th>\n",
       "      <th>CO</th>\n",
       "      <th>SO2</th>\n",
       "      <th>O3</th>\n",
       "      <th>Benzene</th>\n",
       "      <th>Toluene</th>\n",
       "      <th>Xylene</th>\n",
       "      <th>AQI</th>\n",
       "      <th>AQI_Bucket</th>\n",
       "    </tr>\n",
       "  </thead>\n",
       "  <tbody>\n",
       "    <tr>\n",
       "      <th>0</th>\n",
       "      <td>Ahmedabad</td>\n",
       "      <td>2015-01-01</td>\n",
       "      <td>NaN</td>\n",
       "      <td>NaN</td>\n",
       "      <td>0.92</td>\n",
       "      <td>18.22</td>\n",
       "      <td>17.15</td>\n",
       "      <td>NaN</td>\n",
       "      <td>0.92</td>\n",
       "      <td>27.64</td>\n",
       "      <td>133.36</td>\n",
       "      <td>0.00</td>\n",
       "      <td>0.02</td>\n",
       "      <td>0.00</td>\n",
       "      <td>NaN</td>\n",
       "      <td>NaN</td>\n",
       "    </tr>\n",
       "    <tr>\n",
       "      <th>1</th>\n",
       "      <td>Ahmedabad</td>\n",
       "      <td>2015-01-02</td>\n",
       "      <td>NaN</td>\n",
       "      <td>NaN</td>\n",
       "      <td>0.97</td>\n",
       "      <td>15.69</td>\n",
       "      <td>16.46</td>\n",
       "      <td>NaN</td>\n",
       "      <td>0.97</td>\n",
       "      <td>24.55</td>\n",
       "      <td>34.06</td>\n",
       "      <td>3.68</td>\n",
       "      <td>5.50</td>\n",
       "      <td>3.77</td>\n",
       "      <td>NaN</td>\n",
       "      <td>NaN</td>\n",
       "    </tr>\n",
       "    <tr>\n",
       "      <th>2</th>\n",
       "      <td>Ahmedabad</td>\n",
       "      <td>2015-01-03</td>\n",
       "      <td>NaN</td>\n",
       "      <td>NaN</td>\n",
       "      <td>17.40</td>\n",
       "      <td>19.30</td>\n",
       "      <td>29.70</td>\n",
       "      <td>NaN</td>\n",
       "      <td>17.40</td>\n",
       "      <td>29.07</td>\n",
       "      <td>30.70</td>\n",
       "      <td>6.80</td>\n",
       "      <td>16.40</td>\n",
       "      <td>2.25</td>\n",
       "      <td>NaN</td>\n",
       "      <td>NaN</td>\n",
       "    </tr>\n",
       "    <tr>\n",
       "      <th>3</th>\n",
       "      <td>Ahmedabad</td>\n",
       "      <td>2015-01-04</td>\n",
       "      <td>NaN</td>\n",
       "      <td>NaN</td>\n",
       "      <td>1.70</td>\n",
       "      <td>18.48</td>\n",
       "      <td>17.97</td>\n",
       "      <td>NaN</td>\n",
       "      <td>1.70</td>\n",
       "      <td>18.59</td>\n",
       "      <td>36.08</td>\n",
       "      <td>4.43</td>\n",
       "      <td>10.14</td>\n",
       "      <td>1.00</td>\n",
       "      <td>NaN</td>\n",
       "      <td>NaN</td>\n",
       "    </tr>\n",
       "    <tr>\n",
       "      <th>4</th>\n",
       "      <td>Ahmedabad</td>\n",
       "      <td>2015-01-05</td>\n",
       "      <td>NaN</td>\n",
       "      <td>NaN</td>\n",
       "      <td>22.10</td>\n",
       "      <td>21.42</td>\n",
       "      <td>37.76</td>\n",
       "      <td>NaN</td>\n",
       "      <td>22.10</td>\n",
       "      <td>39.33</td>\n",
       "      <td>39.31</td>\n",
       "      <td>7.01</td>\n",
       "      <td>18.89</td>\n",
       "      <td>2.78</td>\n",
       "      <td>NaN</td>\n",
       "      <td>NaN</td>\n",
       "    </tr>\n",
       "  </tbody>\n",
       "</table>\n",
       "</div>"
      ],
      "text/plain": [
       "        City        Date  PM2.5  PM10     NO    NO2    NOx  NH3     CO    SO2  \\\n",
       "0  Ahmedabad  2015-01-01    NaN   NaN   0.92  18.22  17.15  NaN   0.92  27.64   \n",
       "1  Ahmedabad  2015-01-02    NaN   NaN   0.97  15.69  16.46  NaN   0.97  24.55   \n",
       "2  Ahmedabad  2015-01-03    NaN   NaN  17.40  19.30  29.70  NaN  17.40  29.07   \n",
       "3  Ahmedabad  2015-01-04    NaN   NaN   1.70  18.48  17.97  NaN   1.70  18.59   \n",
       "4  Ahmedabad  2015-01-05    NaN   NaN  22.10  21.42  37.76  NaN  22.10  39.33   \n",
       "\n",
       "       O3  Benzene  Toluene  Xylene  AQI AQI_Bucket  \n",
       "0  133.36     0.00     0.02    0.00  NaN        NaN  \n",
       "1   34.06     3.68     5.50    3.77  NaN        NaN  \n",
       "2   30.70     6.80    16.40    2.25  NaN        NaN  \n",
       "3   36.08     4.43    10.14    1.00  NaN        NaN  \n",
       "4   39.31     7.01    18.89    2.78  NaN        NaN  "
      ]
     },
     "execution_count": 5,
     "metadata": {},
     "output_type": "execute_result"
    }
   ],
   "source": [
    "data.head()"
   ]
  },
  {
   "cell_type": "code",
   "execution_count": 6,
   "metadata": {},
   "outputs": [
    {
     "data": {
      "text/html": [
       "<div>\n",
       "<style scoped>\n",
       "    .dataframe tbody tr th:only-of-type {\n",
       "        vertical-align: middle;\n",
       "    }\n",
       "\n",
       "    .dataframe tbody tr th {\n",
       "        vertical-align: top;\n",
       "    }\n",
       "\n",
       "    .dataframe thead th {\n",
       "        text-align: right;\n",
       "    }\n",
       "</style>\n",
       "<table border=\"1\" class=\"dataframe\">\n",
       "  <thead>\n",
       "    <tr style=\"text-align: right;\">\n",
       "      <th></th>\n",
       "      <th>PM2.5</th>\n",
       "      <th>PM10</th>\n",
       "      <th>NO</th>\n",
       "      <th>NO2</th>\n",
       "      <th>NOx</th>\n",
       "      <th>NH3</th>\n",
       "      <th>CO</th>\n",
       "      <th>SO2</th>\n",
       "      <th>O3</th>\n",
       "      <th>Benzene</th>\n",
       "      <th>Toluene</th>\n",
       "      <th>Xylene</th>\n",
       "      <th>AQI</th>\n",
       "    </tr>\n",
       "  </thead>\n",
       "  <tbody>\n",
       "    <tr>\n",
       "      <th>count</th>\n",
       "      <td>24933.000000</td>\n",
       "      <td>18391.000000</td>\n",
       "      <td>25949.000000</td>\n",
       "      <td>25946.000000</td>\n",
       "      <td>25346.000000</td>\n",
       "      <td>19203.000000</td>\n",
       "      <td>27472.000000</td>\n",
       "      <td>25677.000000</td>\n",
       "      <td>25509.000000</td>\n",
       "      <td>23908.000000</td>\n",
       "      <td>21490.000000</td>\n",
       "      <td>11422.000000</td>\n",
       "      <td>24850.000000</td>\n",
       "    </tr>\n",
       "    <tr>\n",
       "      <th>mean</th>\n",
       "      <td>67.450578</td>\n",
       "      <td>118.127103</td>\n",
       "      <td>17.574730</td>\n",
       "      <td>28.560659</td>\n",
       "      <td>32.309123</td>\n",
       "      <td>23.483476</td>\n",
       "      <td>2.248598</td>\n",
       "      <td>14.531977</td>\n",
       "      <td>34.491430</td>\n",
       "      <td>3.280840</td>\n",
       "      <td>8.700972</td>\n",
       "      <td>3.070128</td>\n",
       "      <td>166.463581</td>\n",
       "    </tr>\n",
       "    <tr>\n",
       "      <th>std</th>\n",
       "      <td>64.661449</td>\n",
       "      <td>90.605110</td>\n",
       "      <td>22.785846</td>\n",
       "      <td>24.474746</td>\n",
       "      <td>31.646011</td>\n",
       "      <td>25.684275</td>\n",
       "      <td>6.962884</td>\n",
       "      <td>18.133775</td>\n",
       "      <td>21.694928</td>\n",
       "      <td>15.811136</td>\n",
       "      <td>19.969164</td>\n",
       "      <td>6.323247</td>\n",
       "      <td>140.696585</td>\n",
       "    </tr>\n",
       "    <tr>\n",
       "      <th>min</th>\n",
       "      <td>0.040000</td>\n",
       "      <td>0.010000</td>\n",
       "      <td>0.020000</td>\n",
       "      <td>0.010000</td>\n",
       "      <td>0.000000</td>\n",
       "      <td>0.010000</td>\n",
       "      <td>0.000000</td>\n",
       "      <td>0.010000</td>\n",
       "      <td>0.010000</td>\n",
       "      <td>0.000000</td>\n",
       "      <td>0.000000</td>\n",
       "      <td>0.000000</td>\n",
       "      <td>13.000000</td>\n",
       "    </tr>\n",
       "    <tr>\n",
       "      <th>25%</th>\n",
       "      <td>28.820000</td>\n",
       "      <td>56.255000</td>\n",
       "      <td>5.630000</td>\n",
       "      <td>11.750000</td>\n",
       "      <td>12.820000</td>\n",
       "      <td>8.580000</td>\n",
       "      <td>0.510000</td>\n",
       "      <td>5.670000</td>\n",
       "      <td>18.860000</td>\n",
       "      <td>0.120000</td>\n",
       "      <td>0.600000</td>\n",
       "      <td>0.140000</td>\n",
       "      <td>81.000000</td>\n",
       "    </tr>\n",
       "    <tr>\n",
       "      <th>50%</th>\n",
       "      <td>48.570000</td>\n",
       "      <td>95.680000</td>\n",
       "      <td>9.890000</td>\n",
       "      <td>21.690000</td>\n",
       "      <td>23.520000</td>\n",
       "      <td>15.850000</td>\n",
       "      <td>0.890000</td>\n",
       "      <td>9.160000</td>\n",
       "      <td>30.840000</td>\n",
       "      <td>1.070000</td>\n",
       "      <td>2.970000</td>\n",
       "      <td>0.980000</td>\n",
       "      <td>118.000000</td>\n",
       "    </tr>\n",
       "    <tr>\n",
       "      <th>75%</th>\n",
       "      <td>80.590000</td>\n",
       "      <td>149.745000</td>\n",
       "      <td>19.950000</td>\n",
       "      <td>37.620000</td>\n",
       "      <td>40.127500</td>\n",
       "      <td>30.020000</td>\n",
       "      <td>1.450000</td>\n",
       "      <td>15.220000</td>\n",
       "      <td>45.570000</td>\n",
       "      <td>3.080000</td>\n",
       "      <td>9.150000</td>\n",
       "      <td>3.350000</td>\n",
       "      <td>208.000000</td>\n",
       "    </tr>\n",
       "    <tr>\n",
       "      <th>max</th>\n",
       "      <td>949.990000</td>\n",
       "      <td>1000.000000</td>\n",
       "      <td>390.680000</td>\n",
       "      <td>362.210000</td>\n",
       "      <td>467.630000</td>\n",
       "      <td>352.890000</td>\n",
       "      <td>175.810000</td>\n",
       "      <td>193.860000</td>\n",
       "      <td>257.730000</td>\n",
       "      <td>455.030000</td>\n",
       "      <td>454.850000</td>\n",
       "      <td>170.370000</td>\n",
       "      <td>2049.000000</td>\n",
       "    </tr>\n",
       "  </tbody>\n",
       "</table>\n",
       "</div>"
      ],
      "text/plain": [
       "              PM2.5          PM10            NO           NO2           NOx  \\\n",
       "count  24933.000000  18391.000000  25949.000000  25946.000000  25346.000000   \n",
       "mean      67.450578    118.127103     17.574730     28.560659     32.309123   \n",
       "std       64.661449     90.605110     22.785846     24.474746     31.646011   \n",
       "min        0.040000      0.010000      0.020000      0.010000      0.000000   \n",
       "25%       28.820000     56.255000      5.630000     11.750000     12.820000   \n",
       "50%       48.570000     95.680000      9.890000     21.690000     23.520000   \n",
       "75%       80.590000    149.745000     19.950000     37.620000     40.127500   \n",
       "max      949.990000   1000.000000    390.680000    362.210000    467.630000   \n",
       "\n",
       "                NH3            CO           SO2            O3       Benzene  \\\n",
       "count  19203.000000  27472.000000  25677.000000  25509.000000  23908.000000   \n",
       "mean      23.483476      2.248598     14.531977     34.491430      3.280840   \n",
       "std       25.684275      6.962884     18.133775     21.694928     15.811136   \n",
       "min        0.010000      0.000000      0.010000      0.010000      0.000000   \n",
       "25%        8.580000      0.510000      5.670000     18.860000      0.120000   \n",
       "50%       15.850000      0.890000      9.160000     30.840000      1.070000   \n",
       "75%       30.020000      1.450000     15.220000     45.570000      3.080000   \n",
       "max      352.890000    175.810000    193.860000    257.730000    455.030000   \n",
       "\n",
       "            Toluene        Xylene           AQI  \n",
       "count  21490.000000  11422.000000  24850.000000  \n",
       "mean       8.700972      3.070128    166.463581  \n",
       "std       19.969164      6.323247    140.696585  \n",
       "min        0.000000      0.000000     13.000000  \n",
       "25%        0.600000      0.140000     81.000000  \n",
       "50%        2.970000      0.980000    118.000000  \n",
       "75%        9.150000      3.350000    208.000000  \n",
       "max      454.850000    170.370000   2049.000000  "
      ]
     },
     "execution_count": 6,
     "metadata": {},
     "output_type": "execute_result"
    }
   ],
   "source": [
    "data.describe()"
   ]
  },
  {
   "cell_type": "code",
   "execution_count": 9,
   "metadata": {},
   "outputs": [],
   "source": [
    "#url = 'https://api.openweathermap.org/data/2.5/air_pollution/history?lat=21&lon=77.1&start=1604169000&end=1635705000&appid=08a74ea90aeda287a529e19ab5975d38'\n"
   ]
  },
  {
   "cell_type": "code",
   "execution_count": null,
   "metadata": {},
   "outputs": [],
   "source": [
    "#url = 'http://api.openweathermap.org/data/2.5/air_pollution?lat=21&lon=77.1&appid=08a74ea90aeda287a529e19ab5975d38'"
   ]
  },
  {
   "cell_type": "code",
   "execution_count": 17,
   "metadata": {},
   "outputs": [],
   "source": [
    "clean_data = data.drop(['City', 'Date','NOx','Benzene','Toluene','Xylene','AQI_Bucket'], axis=1)"
   ]
  },
  {
   "cell_type": "code",
   "execution_count": 19,
   "metadata": {},
   "outputs": [
    {
     "data": {
      "text/html": [
       "<div>\n",
       "<style scoped>\n",
       "    .dataframe tbody tr th:only-of-type {\n",
       "        vertical-align: middle;\n",
       "    }\n",
       "\n",
       "    .dataframe tbody tr th {\n",
       "        vertical-align: top;\n",
       "    }\n",
       "\n",
       "    .dataframe thead th {\n",
       "        text-align: right;\n",
       "    }\n",
       "</style>\n",
       "<table border=\"1\" class=\"dataframe\">\n",
       "  <thead>\n",
       "    <tr style=\"text-align: right;\">\n",
       "      <th></th>\n",
       "      <th>PM2.5</th>\n",
       "      <th>PM10</th>\n",
       "      <th>NO</th>\n",
       "      <th>NO2</th>\n",
       "      <th>NH3</th>\n",
       "      <th>CO</th>\n",
       "      <th>SO2</th>\n",
       "      <th>O3</th>\n",
       "      <th>AQI</th>\n",
       "    </tr>\n",
       "  </thead>\n",
       "  <tbody>\n",
       "    <tr>\n",
       "      <th>0</th>\n",
       "      <td>NaN</td>\n",
       "      <td>NaN</td>\n",
       "      <td>0.92</td>\n",
       "      <td>18.22</td>\n",
       "      <td>NaN</td>\n",
       "      <td>0.92</td>\n",
       "      <td>27.64</td>\n",
       "      <td>133.36</td>\n",
       "      <td>NaN</td>\n",
       "    </tr>\n",
       "    <tr>\n",
       "      <th>1</th>\n",
       "      <td>NaN</td>\n",
       "      <td>NaN</td>\n",
       "      <td>0.97</td>\n",
       "      <td>15.69</td>\n",
       "      <td>NaN</td>\n",
       "      <td>0.97</td>\n",
       "      <td>24.55</td>\n",
       "      <td>34.06</td>\n",
       "      <td>NaN</td>\n",
       "    </tr>\n",
       "    <tr>\n",
       "      <th>2</th>\n",
       "      <td>NaN</td>\n",
       "      <td>NaN</td>\n",
       "      <td>17.40</td>\n",
       "      <td>19.30</td>\n",
       "      <td>NaN</td>\n",
       "      <td>17.40</td>\n",
       "      <td>29.07</td>\n",
       "      <td>30.70</td>\n",
       "      <td>NaN</td>\n",
       "    </tr>\n",
       "    <tr>\n",
       "      <th>3</th>\n",
       "      <td>NaN</td>\n",
       "      <td>NaN</td>\n",
       "      <td>1.70</td>\n",
       "      <td>18.48</td>\n",
       "      <td>NaN</td>\n",
       "      <td>1.70</td>\n",
       "      <td>18.59</td>\n",
       "      <td>36.08</td>\n",
       "      <td>NaN</td>\n",
       "    </tr>\n",
       "    <tr>\n",
       "      <th>4</th>\n",
       "      <td>NaN</td>\n",
       "      <td>NaN</td>\n",
       "      <td>22.10</td>\n",
       "      <td>21.42</td>\n",
       "      <td>NaN</td>\n",
       "      <td>22.10</td>\n",
       "      <td>39.33</td>\n",
       "      <td>39.31</td>\n",
       "      <td>NaN</td>\n",
       "    </tr>\n",
       "  </tbody>\n",
       "</table>\n",
       "</div>"
      ],
      "text/plain": [
       "   PM2.5  PM10     NO    NO2  NH3     CO    SO2      O3  AQI\n",
       "0    NaN   NaN   0.92  18.22  NaN   0.92  27.64  133.36  NaN\n",
       "1    NaN   NaN   0.97  15.69  NaN   0.97  24.55   34.06  NaN\n",
       "2    NaN   NaN  17.40  19.30  NaN  17.40  29.07   30.70  NaN\n",
       "3    NaN   NaN   1.70  18.48  NaN   1.70  18.59   36.08  NaN\n",
       "4    NaN   NaN  22.10  21.42  NaN  22.10  39.33   39.31  NaN"
      ]
     },
     "execution_count": 19,
     "metadata": {},
     "output_type": "execute_result"
    }
   ],
   "source": [
    "#using only the useful and inportant components\n",
    "clean_data.head()"
   ]
  },
  {
   "cell_type": "code",
   "execution_count": 22,
   "metadata": {},
   "outputs": [
    {
     "data": {
      "text/plain": [
       "29531"
      ]
     },
     "execution_count": 22,
     "metadata": {},
     "output_type": "execute_result"
    }
   ],
   "source": [
    "len(clean_data)"
   ]
  },
  {
   "cell_type": "code",
   "execution_count": 21,
   "metadata": {},
   "outputs": [
    {
     "data": {
      "text/plain": [
       "PM2.5     4598\n",
       "PM10     11140\n",
       "NO        3582\n",
       "NO2       3585\n",
       "NH3      10328\n",
       "CO        2059\n",
       "SO2       3854\n",
       "O3        4022\n",
       "AQI       4681\n",
       "dtype: int64"
      ]
     },
     "execution_count": 21,
     "metadata": {},
     "output_type": "execute_result"
    }
   ],
   "source": [
    "clean_data.isnull().sum()"
   ]
  },
  {
   "cell_type": "code",
   "execution_count": 26,
   "metadata": {},
   "outputs": [],
   "source": [
    "clean_data = clean_data.dropna()"
   ]
  },
  {
   "cell_type": "code",
   "execution_count": 27,
   "metadata": {},
   "outputs": [
    {
     "data": {
      "text/plain": [
       "PM2.5    0\n",
       "PM10     0\n",
       "NO       0\n",
       "NO2      0\n",
       "NH3      0\n",
       "CO       0\n",
       "SO2      0\n",
       "O3       0\n",
       "AQI      0\n",
       "dtype: int64"
      ]
     },
     "execution_count": 27,
     "metadata": {},
     "output_type": "execute_result"
    }
   ],
   "source": [
    "clean_data.isnull().sum()"
   ]
  },
  {
   "cell_type": "code",
   "execution_count": 28,
   "metadata": {},
   "outputs": [
    {
     "data": {
      "text/html": [
       "<div>\n",
       "<style scoped>\n",
       "    .dataframe tbody tr th:only-of-type {\n",
       "        vertical-align: middle;\n",
       "    }\n",
       "\n",
       "    .dataframe tbody tr th {\n",
       "        vertical-align: top;\n",
       "    }\n",
       "\n",
       "    .dataframe thead th {\n",
       "        text-align: right;\n",
       "    }\n",
       "</style>\n",
       "<table border=\"1\" class=\"dataframe\">\n",
       "  <thead>\n",
       "    <tr style=\"text-align: right;\">\n",
       "      <th></th>\n",
       "      <th>PM2.5</th>\n",
       "      <th>PM10</th>\n",
       "      <th>NO</th>\n",
       "      <th>NO2</th>\n",
       "      <th>NH3</th>\n",
       "      <th>CO</th>\n",
       "      <th>SO2</th>\n",
       "      <th>O3</th>\n",
       "      <th>AQI</th>\n",
       "    </tr>\n",
       "  </thead>\n",
       "  <tbody>\n",
       "    <tr>\n",
       "      <th>2010</th>\n",
       "      <td>31.21</td>\n",
       "      <td>38.66</td>\n",
       "      <td>7.20</td>\n",
       "      <td>1.27</td>\n",
       "      <td>25.63</td>\n",
       "      <td>0.56</td>\n",
       "      <td>4.22</td>\n",
       "      <td>2.81</td>\n",
       "      <td>52.0</td>\n",
       "    </tr>\n",
       "    <tr>\n",
       "      <th>2011</th>\n",
       "      <td>38.39</td>\n",
       "      <td>46.68</td>\n",
       "      <td>7.19</td>\n",
       "      <td>0.91</td>\n",
       "      <td>29.16</td>\n",
       "      <td>0.57</td>\n",
       "      <td>4.46</td>\n",
       "      <td>0.18</td>\n",
       "      <td>60.0</td>\n",
       "    </tr>\n",
       "    <tr>\n",
       "      <th>2012</th>\n",
       "      <td>43.23</td>\n",
       "      <td>50.83</td>\n",
       "      <td>7.14</td>\n",
       "      <td>1.07</td>\n",
       "      <td>28.95</td>\n",
       "      <td>0.57</td>\n",
       "      <td>4.53</td>\n",
       "      <td>0.41</td>\n",
       "      <td>62.0</td>\n",
       "    </tr>\n",
       "    <tr>\n",
       "      <th>2013</th>\n",
       "      <td>33.82</td>\n",
       "      <td>41.03</td>\n",
       "      <td>7.09</td>\n",
       "      <td>0.36</td>\n",
       "      <td>28.41</td>\n",
       "      <td>0.48</td>\n",
       "      <td>4.63</td>\n",
       "      <td>0.30</td>\n",
       "      <td>70.0</td>\n",
       "    </tr>\n",
       "    <tr>\n",
       "      <th>2014</th>\n",
       "      <td>27.14</td>\n",
       "      <td>35.04</td>\n",
       "      <td>5.63</td>\n",
       "      <td>2.32</td>\n",
       "      <td>23.98</td>\n",
       "      <td>0.50</td>\n",
       "      <td>4.71</td>\n",
       "      <td>13.02</td>\n",
       "      <td>54.0</td>\n",
       "    </tr>\n",
       "  </tbody>\n",
       "</table>\n",
       "</div>"
      ],
      "text/plain": [
       "      PM2.5   PM10    NO   NO2    NH3    CO   SO2     O3   AQI\n",
       "2010  31.21  38.66  7.20  1.27  25.63  0.56  4.22   2.81  52.0\n",
       "2011  38.39  46.68  7.19  0.91  29.16  0.57  4.46   0.18  60.0\n",
       "2012  43.23  50.83  7.14  1.07  28.95  0.57  4.53   0.41  62.0\n",
       "2013  33.82  41.03  7.09  0.36  28.41  0.48  4.63   0.30  70.0\n",
       "2014  27.14  35.04  5.63  2.32  23.98  0.50  4.71  13.02  54.0"
      ]
     },
     "execution_count": 28,
     "metadata": {},
     "output_type": "execute_result"
    }
   ],
   "source": [
    "clean_data.head()"
   ]
  },
  {
   "cell_type": "code",
   "execution_count": 30,
   "metadata": {},
   "outputs": [],
   "source": [
    "from sklearn.model_selection import train_test_split\n",
    "\n",
    "x = clean_data.drop('AQI', axis=1)\n",
    "y = clean_data['AQI']\n",
    "\n",
    "x_train, x_test, y_train, y_test = train_test_split(x, y, test_size=0.2, random_state=42)"
   ]
  },
  {
   "cell_type": "code",
   "execution_count": 32,
   "metadata": {},
   "outputs": [],
   "source": [
    "#Import variouse regression models\n",
    "from sklearn.linear_model import LinearRegression\n",
    "from sklearn.ensemble import RandomForestRegressor\n",
    "from sklearn.tree import DecisionTreeRegressor\n",
    "from sklearn.svm import SVR\n",
    "from sklearn.ensemble import GradientBoostingRegressor\n",
    "from sklearn.ensemble import AdaBoostRegressor\n",
    "from sklearn.linear_model import Lasso\n",
    "from sklearn.linear_model import Ridge\n",
    "from sklearn.linear_model import ElasticNet"
   ]
  },
  {
   "cell_type": "code",
   "execution_count": 34,
   "metadata": {},
   "outputs": [],
   "source": [
    "from sklearn.metrics import mean_squared_error, mean_absolute_error, r2_score\n",
    "\n",
    "models = [\n",
    "    ('Linear Regression', LinearRegression()),\n",
    "    ('Random Forest', RandomForestRegressor()),\n",
    "    ('Decision Tree', DecisionTreeRegressor()),\n",
    "    ('SVR', SVR()),\n",
    "    ('Gradient Boosting', GradientBoostingRegressor()),\n",
    "    ('Ada Boost', AdaBoostRegressor()),\n",
    "    ('Lasso', Lasso()),\n",
    "    ('Ridge', Ridge()),\n",
    "    ('Elastic Net', ElasticNet())\n",
    "]\n",
    "\n",
    "model_results = {'Model': [], 'MAE': [], 'MSE': [], 'R2 Score': []}\n",
    "\n",
    "for name, model in models:\n",
    "    model.fit(x_train, y_train)\n",
    "    y_pred = model.predict(x_test)\n",
    "    \n",
    "    # Calculate metrics\n",
    "    mae = mean_absolute_error(y_test, y_pred)\n",
    "    mse = mean_squared_error(y_test, y_pred)\n",
    "    r2 = r2_score(y_test, y_pred)\n",
    "    \n",
    "    # Append results to the dictionary\n",
    "    model_results['Model'].append(name)\n",
    "    model_results['MAE'].append(mae)\n",
    "    model_results['MSE'].append(mse)\n",
    "    model_results['R2 Score'].append(r2)"
   ]
  },
  {
   "cell_type": "code",
   "execution_count": 36,
   "metadata": {},
   "outputs": [
    {
     "data": {
      "image/png": "[encoded data removed]",
      "text/plain": [
       "<Figure size 1400x1000 with 4 Axes>"
      ]
     },
     "metadata": {},
     "output_type": "display_data"
    }
   ],
   "source": [
    "# Convert results to a DataFrame for visualization\n",
    "results_df = pd.DataFrame(model_results)\n",
    "\n",
    "# Plotting comparison of models\n",
    "fig, ax = plt.subplots(2, 2, figsize=(14, 10))\n",
    "\n",
    "# MAE\n",
    "ax[0, 0].barh(results_df['Model'], results_df['MAE'], color='orange')\n",
    "ax[0, 0].set_title('Mean Absolute Error (MAE)')\n",
    "\n",
    "# MSE\n",
    "ax[0, 1].barh(results_df['Model'], results_df['MSE'], color='blue')\n",
    "ax[0, 1].set_title('Mean Squared Error (MSE)')\n",
    "\n",
    "# R2 Score\n",
    "ax[1, 1].barh(results_df['Model'], results_df['R2 Score'], color='red')\n",
    "ax[1, 1].set_title('R2 Score')\n",
    "\n",
    "plt.tight_layout()\n",
    "plt.show()"
   ]
  },
  {
   "cell_type": "code",
   "execution_count": 37,
   "metadata": {},
   "outputs": [
    {
     "data": {
      "image/png": "[encoded data removed]",
      "text/plain": [
       "<Figure size 1000x600 with 1 Axes>"
      ]
     },
     "metadata": {},
     "output_type": "display_data"
    }
   ],
   "source": [
    "# Based on low MAE & MSE and high R2 Score, Gradient Boosting Regressor is the best model\n",
    "# Let's use it to make predictions\n",
    "model = GradientBoostingRegressor()\n",
    "model.fit(x_train, y_train)\n",
    "y_pred = model.predict(x_test)\n",
    "\n",
    "# Plotting actual vs predicted values\n",
    "plt.figure(figsize=(10, 6))\n",
    "plt.scatter(y_test, y_pred)\n",
    "plt.xlabel('Actual')\n",
    "plt.ylabel('Predicted')\n",
    "plt.title('Actual vs Predicted')\n",
    "plt.show()\n"
   ]
  },
  {
   "cell_type": "code",
   "execution_count": 39,
   "metadata": {},
   "outputs": [
    {
     "name": "stderr",
     "output_type": "stream",
     "text": [
      "c:\\Users\\Rxghav1103\\Desktop\\AQI Prediction\\aqi\\Lib\\site-packages\\sklearn\\model_selection\\_search.py:320: UserWarning: The total space of parameters 32 is smaller than n_iter=50. Running 32 iterations. For exhaustive searches, use GridSearchCV.\n",
      "  warnings.warn(\n"
     ]
    },
    {
     "name": "stdout",
     "output_type": "stream",
     "text": [
      "Fitting 5 folds for each of 32 candidates, totalling 160 fits\n"
     ]
    },
    {
     "data": {
      "text/plain": [
       "({'subsample': 0.8,\n",
       "  'n_estimators': 100,\n",
       "  'min_samples_split': 2,\n",
       "  'max_depth': 5,\n",
       "  'learning_rate': 0.1},\n",
       " np.float64(0.9243207652741356))"
      ]
     },
     "execution_count": 39,
     "metadata": {},
     "output_type": "execute_result"
    }
   ],
   "source": [
    "from sklearn.model_selection import RandomizedSearchCV\n",
    "import numpy as np\n",
    "\n",
    "# Define the hyperparameter grid\n",
    "param_dist = {\n",
    "    'n_estimators': [100, 200],  # Fewer values for n_estimators\n",
    "    'learning_rate': [0.01, 0.1],  # Fewer values for learning_rate\n",
    "    'max_depth': [3, 5],  # Fewer values for max_depth\n",
    "    'min_samples_split': [2, 5],  # Fewer values for min_samples_split\n",
    "    'subsample': [0.8, 1.0]  # Fewer values for subsample\n",
    "}\n",
    "\n",
    "# Use RandomizedSearchCV instead of GridSearchCV\n",
    "random_search = RandomizedSearchCV(estimator=model, param_distributions=param_dist, \n",
    "                                   n_iter=50, cv=5, scoring='r2', n_jobs=-1, verbose=1, random_state=42)\n",
    "\n",
    "random_search.fit(x_train, y_train)\n",
    "\n",
    "# Best hyperparameters and best cross-validation R² score\n",
    "best_params_random = random_search.best_params_\n",
    "best_cv_r2_random = random_search.best_score_\n",
    "\n",
    "best_params_random, best_cv_r2_random\n"
   ]
  },
  {
   "cell_type": "code",
   "execution_count": 40,
   "metadata": {},
   "outputs": [
    {
     "data": {
      "text/plain": [
       "0.9292204693995766"
      ]
     },
     "execution_count": 40,
     "metadata": {},
     "output_type": "execute_result"
    }
   ],
   "source": [
    "# Create the final model with the best hyperparameters\n",
    "final_model = GradientBoostingRegressor(\n",
    "    subsample=0.8,\n",
    "    n_estimators=100,\n",
    "    min_samples_split=2,\n",
    "    max_depth=5,\n",
    "    learning_rate=0.1\n",
    ")\n",
    "\n",
    "# Train the final model\n",
    "final_model.fit(x_train, y_train)\n",
    "\n",
    "# Predict on the test set\n",
    "y_pred_final = final_model.predict(x_test)\n",
    "\n",
    "# Calculate R² score on the test set\n",
    "final_r2_score = r2_score(y_test, y_pred_final)\n",
    "\n",
    "final_r2_score\n"
   ]
  },
  {
   "cell_type": "code",
   "execution_count": 62,
   "metadata": {},
   "outputs": [
    {
     "name": "stdout",
     "output_type": "stream",
     "text": [
      "{'PM2.5': 68.25, 'PM10': 81.01, 'NO': 0.63, 'NO2': 5.4, 'NH3': 8.36, 'CO': 527.38, 'SO2': 10.13, 'O3': 133.04}\n"
     ]
    }
   ],
   "source": [
    "# Get today's data\n",
    "url = 'http://api.openweathermap.org/data/2.5/air_pollution?lat=21&lon=77.1&appid=08a74ea90aeda287a529e19ab5975d38'\n",
    "response = requests.get(url)\n",
    "\n",
    "# Check if the response is successful\n",
    "if response.status_code == 200:\n",
    "    result = response.json()\n",
    "    rtdata = result['list'][0]['components']\n",
    "    \n",
    "    # Convert keys to match the training data feature names\n",
    "    adjusted_rtdata = {\n",
    "        'PM2.5': rtdata['pm2_5'],\n",
    "        'PM10': rtdata['pm10'],\n",
    "        'NO': rtdata['no'],\n",
    "        'NO2': rtdata['no2'],\n",
    "        'NH3': rtdata['nh3'],\n",
    "        'CO': rtdata['co'],\n",
    "        'SO2': rtdata['so2'],\n",
    "        'O3': rtdata['o3'],\n",
    "    }\n",
    "    \n",
    "    print(adjusted_rtdata)\n"
   ]
  },
  {
   "cell_type": "code",
   "execution_count": 63,
   "metadata": {},
   "outputs": [],
   "source": [
    "rtinp = pd.DataFrame([adjusted_rtdata])"
   ]
  },
  {
   "cell_type": "code",
   "execution_count": 64,
   "metadata": {},
   "outputs": [
    {
     "data": {
      "text/html": [
       "<div>\n",
       "<style scoped>\n",
       "    .dataframe tbody tr th:only-of-type {\n",
       "        vertical-align: middle;\n",
       "    }\n",
       "\n",
       "    .dataframe tbody tr th {\n",
       "        vertical-align: top;\n",
       "    }\n",
       "\n",
       "    .dataframe thead th {\n",
       "        text-align: right;\n",
       "    }\n",
       "</style>\n",
       "<table border=\"1\" class=\"dataframe\">\n",
       "  <thead>\n",
       "    <tr style=\"text-align: right;\">\n",
       "      <th></th>\n",
       "      <th>PM2.5</th>\n",
       "      <th>PM10</th>\n",
       "      <th>NO</th>\n",
       "      <th>NO2</th>\n",
       "      <th>NH3</th>\n",
       "      <th>CO</th>\n",
       "      <th>SO2</th>\n",
       "      <th>O3</th>\n",
       "    </tr>\n",
       "  </thead>\n",
       "  <tbody>\n",
       "    <tr>\n",
       "      <th>0</th>\n",
       "      <td>68.25</td>\n",
       "      <td>81.01</td>\n",
       "      <td>0.63</td>\n",
       "      <td>5.4</td>\n",
       "      <td>8.36</td>\n",
       "      <td>527.38</td>\n",
       "      <td>10.13</td>\n",
       "      <td>133.04</td>\n",
       "    </tr>\n",
       "  </tbody>\n",
       "</table>\n",
       "</div>"
      ],
      "text/plain": [
       "   PM2.5   PM10    NO  NO2   NH3      CO    SO2      O3\n",
       "0  68.25  81.01  0.63  5.4  8.36  527.38  10.13  133.04"
      ]
     },
     "execution_count": 64,
     "metadata": {},
     "output_type": "execute_result"
    }
   ],
   "source": [
    "rtinp"
   ]
  },
  {
   "cell_type": "code",
   "execution_count": 65,
   "metadata": {},
   "outputs": [
    {
     "data": {
      "text/html": [
       "<div>\n",
       "<style scoped>\n",
       "    .dataframe tbody tr th:only-of-type {\n",
       "        vertical-align: middle;\n",
       "    }\n",
       "\n",
       "    .dataframe tbody tr th {\n",
       "        vertical-align: top;\n",
       "    }\n",
       "\n",
       "    .dataframe thead th {\n",
       "        text-align: right;\n",
       "    }\n",
       "</style>\n",
       "<table border=\"1\" class=\"dataframe\">\n",
       "  <thead>\n",
       "    <tr style=\"text-align: right;\">\n",
       "      <th></th>\n",
       "      <th>PM2.5</th>\n",
       "      <th>PM10</th>\n",
       "      <th>NO</th>\n",
       "      <th>NO2</th>\n",
       "      <th>NH3</th>\n",
       "      <th>CO</th>\n",
       "      <th>SO2</th>\n",
       "      <th>O3</th>\n",
       "    </tr>\n",
       "  </thead>\n",
       "  <tbody>\n",
       "    <tr>\n",
       "      <th>10669</th>\n",
       "      <td>67.63</td>\n",
       "      <td>152.46</td>\n",
       "      <td>21.36</td>\n",
       "      <td>36.61</td>\n",
       "      <td>29.89</td>\n",
       "      <td>1.14</td>\n",
       "      <td>17.04</td>\n",
       "      <td>48.58</td>\n",
       "    </tr>\n",
       "  </tbody>\n",
       "</table>\n",
       "</div>"
      ],
      "text/plain": [
       "       PM2.5    PM10     NO    NO2    NH3    CO    SO2     O3\n",
       "10669  67.63  152.46  21.36  36.61  29.89  1.14  17.04  48.58"
      ]
     },
     "execution_count": 65,
     "metadata": {},
     "output_type": "execute_result"
    }
   ],
   "source": [
    "x_train.head(1)"
   ]
  },
  {
   "cell_type": "code",
   "execution_count": 66,
   "metadata": {},
   "outputs": [],
   "source": [
    "rtpred = final_model.predict(rtinp)"
   ]
  },
  {
   "cell_type": "code",
   "execution_count": 67,
   "metadata": {},
   "outputs": [
    {
     "data": {
      "text/plain": [
       "array([268.45164295])"
      ]
     },
     "execution_count": 67,
     "metadata": {},
     "output_type": "execute_result"
    }
   ],
   "source": [
    "rtpred"
   ]
  },
  {
   "cell_type": "code",
   "execution_count": 68,
   "metadata": {},
   "outputs": [
    {
     "data": {
      "text/plain": [
       "['gradient_boosting_model.joblib']"
      ]
     },
     "execution_count": 68,
     "metadata": {},
     "output_type": "execute_result"
    }
   ],
   "source": [
    "import joblib\n",
    "\n",
    "# Save the trained model to a file\n",
    "joblib.dump(final_model, 'gradient_boosting_model.joblib')\n"
   ]
  },
  {
   "cell_type": "code",
   "execution_count": null,
   "metadata": {},
   "outputs": [],
   "source": []
  }
 ],
 "metadata": {
  "kernelspec": {
   "display_name": "aqi",
   "language": "python",
   "name": "python3"
  },
  "language_info": {
   "codemirror_mode": {
    "name": "ipython",
    "version": 3
   },
   "file_extension": ".py",
   "mimetype": "text/x-python",
   "name": "python",
   "nbconvert_exporter": "python",
   "pygments_lexer": "ipython3",
   "version": "3.12.8"
  }
 },
 "nbformat": 4,
 "nbformat_minor": 2
}
